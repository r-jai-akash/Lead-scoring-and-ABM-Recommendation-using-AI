{
 "cells": [
  {
   "cell_type": "markdown",
   "metadata": {},
   "source": [
    "#### Dealing with duplicate data/ feature engineering\n",
    "In this lab, we will explore and analyze the data on calls for service from New Orleans. The dataset used in this example is available at the following link: https://data.nola.gov/. Specifically, we will focus on the dataset from the year 2015.\n",
    "\n",
    "This dataset provides valuable insights into the nature and frequency of service calls made within the city of New Orleans. By examining this data, we can uncover patterns, trends, and important information that can contribute to a better understanding of public safety and resource allocation.\n",
    "\n",
    "During this lab, our main focus will be on dealing with duplicated data."
   ]
  },
  {
   "cell_type": "markdown",
   "metadata": {},
   "source": [
    "Duplicates in a dataset can introduce errors and inaccuracies in our analysis, leading to biased results and flawed conclusions. Therefore, it is crucial to identify and handle duplicate entries effectively.\n",
    "\n",
    "By handling duplicate entries effectively in your dataset, you ensure that your analysis is not skewed by repetitive or erroneous data points. This leads to more reliable insights and prevents biased results and flawed conclusions. In this example, it demonstrates the importance of data cleaning and quality assurance in data analysis to obtain trustworthy results for decision-making."
   ]
  },
  {
   "cell_type": "markdown",
   "metadata": {},
   "source": [
    "Simple example\n",
    "\n",
    "Here's an example of Python code that illustrates how to identify and handle duplicate entries in a dataset using the popular pandas library."
   ]
  },
  {
   "cell_type": "code",
   "execution_count": 1,
   "metadata": {},
   "outputs": [
    {
     "name": "stdout",
     "output_type": "stream",
     "text": [
      "Original Dataset:\n",
      "   Customer_ID Product_ID     Review_Text  Rating\n",
      "0            1          A   Great product       5\n",
      "1            2          B    Good product       4\n",
      "2            3          C         Average       3\n",
      "3            4          D   Not satisfied       2\n",
      "4            1          A   Great product       5\n",
      "5            5          E       Excellent       5\n",
      "6            2          B    Good product       4\n",
      "7            6          F  Very satisfied       5\n",
      "\n",
      "Duplicate Rows:\n",
      "   Customer_ID Product_ID    Review_Text  Rating\n",
      "4            1          A  Great product       5\n",
      "6            2          B   Good product       4\n",
      "\n",
      "Cleaned Dataset:\n",
      "   Customer_ID Product_ID     Review_Text  Rating\n",
      "0            1          A   Great product       5\n",
      "1            2          B    Good product       4\n",
      "2            3          C         Average       3\n",
      "3            4          D   Not satisfied       2\n",
      "5            5          E       Excellent       5\n",
      "7            6          F  Very satisfied       5\n"
     ]
    }
   ],
   "source": [
    "import pandas as pd\n",
    "\n",
    "# Sample dataset with duplicate entries\n",
    "data = {\n",
    "    'Customer_ID': [1, 2, 3, 4, 1, 5, 2, 6],\n",
    "    'Product_ID': ['A', 'B', 'C', 'D', 'A', 'E', 'B', 'F'],\n",
    "    'Review_Text': ['Great product', 'Good product', 'Average', 'Not satisfied', 'Great product', 'Excellent', 'Good product', 'Very satisfied'],\n",
    "    'Rating': [5, 4, 3, 2, 5, 5, 4, 5]\n",
    "}\n",
    "\n",
    "df = pd.DataFrame(data)\n",
    "\n",
    "# Identifying and handling duplicates\n",
    "duplicate_rows = df[df.duplicated(['Customer_ID', 'Product_ID', 'Review_Text'], keep='first')]\n",
    "df_cleaned = df.drop_duplicates(['Customer_ID', 'Product_ID', 'Review_Text'], keep='first')\n",
    "\n",
    "# Displaying the original and cleaned datasets\n",
    "print(\"Original Dataset:\")\n",
    "print(df)\n",
    "\n",
    "print(\"\\nDuplicate Rows:\")\n",
    "print(duplicate_rows)\n",
    "\n",
    "print(\"\\nCleaned Dataset:\")\n",
    "print(df_cleaned)"
   ]
  },
  {
   "cell_type": "code",
   "execution_count": 6,
   "metadata": {},
   "outputs": [
    {
     "data": {
      "text/plain": [
       "0    False\n",
       "1    False\n",
       "2    False\n",
       "3    False\n",
       "4     True\n",
       "5    False\n",
       "6     True\n",
       "7    False\n",
       "dtype: bool"
      ]
     },
     "execution_count": 6,
     "metadata": {},
     "output_type": "execute_result"
    }
   ],
   "source": [
    "df.duplicated()"
   ]
  },
  {
   "cell_type": "code",
   "execution_count": 10,
   "metadata": {},
   "outputs": [
    {
     "data": {
      "text/plain": [
       "0    False\n",
       "1    False\n",
       "2    False\n",
       "3    False\n",
       "5    False\n",
       "7    False\n",
       "dtype: bool"
      ]
     },
     "execution_count": 10,
     "metadata": {},
     "output_type": "execute_result"
    }
   ],
   "source": [
    "df.duplicated('Product_ID')"
   ]
  },
  {
   "cell_type": "code",
   "execution_count": 8,
   "metadata": {},
   "outputs": [],
   "source": [
    "df.drop_duplicates(keep='first',inplace=True)"
   ]
  },
  {
   "cell_type": "code",
   "execution_count": 9,
   "metadata": {},
   "outputs": [
    {
     "data": {
      "text/plain": [
       "0"
      ]
     },
     "execution_count": 9,
     "metadata": {},
     "output_type": "execute_result"
    }
   ],
   "source": [
    "df.duplicated().sum()"
   ]
  },
  {
   "cell_type": "code",
   "execution_count": null,
   "metadata": {},
   "outputs": [],
   "source": []
  }
 ],
 "metadata": {
  "kernelspec": {
   "display_name": "base",
   "language": "python",
   "name": "python3"
  },
  "language_info": {
   "codemirror_mode": {
    "name": "ipython",
    "version": 3
   },
   "file_extension": ".py",
   "mimetype": "text/x-python",
   "name": "python",
   "nbconvert_exporter": "python",
   "pygments_lexer": "ipython3",
   "version": "3.12.4"
  }
 },
 "nbformat": 4,
 "nbformat_minor": 2
}
